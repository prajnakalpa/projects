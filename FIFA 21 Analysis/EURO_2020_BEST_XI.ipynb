{
  "nbformat": 4,
  "nbformat_minor": 0,
  "metadata": {
    "colab": {
      "name": "EURO 2020 BEST XI.ipynb",
      "provenance": [],
      "collapsed_sections": [
        "HJBsSYpNK9f2",
        "-jJv1vWTKuzc"
      ],
      "toc_visible": true,
      "authorship_tag": "ABX9TyOJGyn3Ad0XPUxsDu2xR269",
      "include_colab_link": true
    },
    "kernelspec": {
      "name": "python3",
      "display_name": "Python 3"
    },
    "language_info": {
      "name": "python"
    }
  },
  "cells": [
    {
      "cell_type": "markdown",
      "metadata": {
        "id": "view-in-github",
        "colab_type": "text"
      },
      "source": [
        "<a href=\"https://colab.research.google.com/github/prajnakalpa/projects/blob/master/EURO_2020_BEST_XI.ipynb\" target=\"_parent\"><img src=\"https://colab.research.google.com/assets/colab-badge.svg\" alt=\"Open In Colab\"/></a>"
      ]
    },
    {
      "cell_type": "code",
      "execution_count": 1,
      "metadata": {
        "id": "vFjorXSSrkCZ"
      },
      "outputs": [],
      "source": [
        "import pandas as pd\n",
        "import seaborn as sns\n",
        "import matplotlib.pyplot as plt\n",
        "import numpy as np"
      ]
    },
    {
      "cell_type": "code",
      "source": [
        "from google.colab import files\n",
        "\n",
        "\n",
        "uploaded = files.upload()\n"
      ],
      "metadata": {
        "colab": {
          "resources": {
            "http://localhost:8080/nbextensions/google.colab/files.js": {
              "data": "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",
              "ok": true,
              "headers": [
                [
                  "content-type",
                  "application/javascript"
                ]
              ],
              "status": 200,
              "status_text": ""
            }
          },
          "base_uri": "https://localhost:8080/",
          "height": 74
        },
        "id": "b3ohCtY4s2oY",
        "outputId": "c506aacd-2f69-4a83-abfc-4e997b8752aa"
      },
      "execution_count": 2,
      "outputs": [
        {
          "output_type": "display_data",
          "data": {
            "text/html": [
              "\n",
              "     <input type=\"file\" id=\"files-0d69fd4d-eb9a-4c50-913f-fd8a49ac9ceb\" name=\"files[]\" multiple disabled\n",
              "        style=\"border:none\" />\n",
              "     <output id=\"result-0d69fd4d-eb9a-4c50-913f-fd8a49ac9ceb\">\n",
              "      Upload widget is only available when the cell has been executed in the\n",
              "      current browser session. Please rerun this cell to enable.\n",
              "      </output>\n",
              "      <script src=\"/nbextensions/google.colab/files.js\"></script> "
            ],
            "text/plain": [
              "<IPython.core.display.HTML object>"
            ]
          },
          "metadata": {}
        },
        {
          "output_type": "stream",
          "name": "stdout",
          "text": [
            "Saving fifa21.csv to fifa21.csv\n"
          ]
        }
      ]
    },
    {
      "cell_type": "code",
      "source": [
        "% matplotlib inline\n",
        "df = pd.read_csv(\"fifa21.csv\")\n",
        "df.head()"
      ],
      "metadata": {
        "colab": {
          "base_uri": "https://localhost:8080/",
          "height": 560
        },
        "id": "G8eoxGZXuRSX",
        "outputId": "f444ccad-41ab-41e0-cf79-45ff47756de5"
      },
      "execution_count": 123,
      "outputs": [
        {
          "output_type": "stream",
          "name": "stderr",
          "text": [
            "/usr/local/lib/python3.7/dist-packages/IPython/core/interactiveshell.py:2718: DtypeWarning: Columns (78) have mixed types.Specify dtype option on import or set low_memory=False.\n",
            "  interactivity=interactivity, compiler=compiler, result=result)\n"
          ]
        },
        {
          "output_type": "execute_result",
          "data": {
            "text/html": [
              "\n",
              "  <div id=\"df-647953f9-4d3e-49ac-9080-f821f88927c7\">\n",
              "    <div class=\"colab-df-container\">\n",
              "      <div>\n",
              "<style scoped>\n",
              "    .dataframe tbody tr th:only-of-type {\n",
              "        vertical-align: middle;\n",
              "    }\n",
              "\n",
              "    .dataframe tbody tr th {\n",
              "        vertical-align: top;\n",
              "    }\n",
              "\n",
              "    .dataframe thead th {\n",
              "        text-align: right;\n",
              "    }\n",
              "</style>\n",
              "<table border=\"1\" class=\"dataframe\">\n",
              "  <thead>\n",
              "    <tr style=\"text-align: right;\">\n",
              "      <th></th>\n",
              "      <th>ID</th>\n",
              "      <th>Name</th>\n",
              "      <th>Age</th>\n",
              "      <th>OVA</th>\n",
              "      <th>Nationality</th>\n",
              "      <th>Club</th>\n",
              "      <th>BOV</th>\n",
              "      <th>BP</th>\n",
              "      <th>Position</th>\n",
              "      <th>Player Photo</th>\n",
              "      <th>Club Logo</th>\n",
              "      <th>Flag Photo</th>\n",
              "      <th>POT</th>\n",
              "      <th>Team &amp; Contract</th>\n",
              "      <th>Height</th>\n",
              "      <th>Weight</th>\n",
              "      <th>foot</th>\n",
              "      <th>Growth</th>\n",
              "      <th>Joined</th>\n",
              "      <th>Loan Date End</th>\n",
              "      <th>Value</th>\n",
              "      <th>Wage</th>\n",
              "      <th>Release Clause</th>\n",
              "      <th>Contract</th>\n",
              "      <th>Attacking</th>\n",
              "      <th>Crossing</th>\n",
              "      <th>Finishing</th>\n",
              "      <th>Heading Accuracy</th>\n",
              "      <th>Short Passing</th>\n",
              "      <th>Volleys</th>\n",
              "      <th>Skill</th>\n",
              "      <th>Dribbling</th>\n",
              "      <th>Curve</th>\n",
              "      <th>FK Accuracy</th>\n",
              "      <th>Long Passing</th>\n",
              "      <th>Ball Control</th>\n",
              "      <th>Movement</th>\n",
              "      <th>Acceleration</th>\n",
              "      <th>Sprint Speed</th>\n",
              "      <th>Agility</th>\n",
              "      <th>...</th>\n",
              "      <th>W/F</th>\n",
              "      <th>SM</th>\n",
              "      <th>A/W</th>\n",
              "      <th>D/W</th>\n",
              "      <th>IR</th>\n",
              "      <th>PAC</th>\n",
              "      <th>SHO</th>\n",
              "      <th>PAS</th>\n",
              "      <th>DRI</th>\n",
              "      <th>DEF</th>\n",
              "      <th>PHY</th>\n",
              "      <th>Hits</th>\n",
              "      <th>LS</th>\n",
              "      <th>ST</th>\n",
              "      <th>RS</th>\n",
              "      <th>LW</th>\n",
              "      <th>LF</th>\n",
              "      <th>CF</th>\n",
              "      <th>RF</th>\n",
              "      <th>RW</th>\n",
              "      <th>LAM</th>\n",
              "      <th>CAM</th>\n",
              "      <th>RAM</th>\n",
              "      <th>LM</th>\n",
              "      <th>LCM</th>\n",
              "      <th>CM</th>\n",
              "      <th>RCM</th>\n",
              "      <th>RM</th>\n",
              "      <th>LWB</th>\n",
              "      <th>LDM</th>\n",
              "      <th>CDM</th>\n",
              "      <th>RDM</th>\n",
              "      <th>RWB</th>\n",
              "      <th>LB</th>\n",
              "      <th>LCB</th>\n",
              "      <th>CB</th>\n",
              "      <th>RCB</th>\n",
              "      <th>RB</th>\n",
              "      <th>GK</th>\n",
              "      <th>Gender</th>\n",
              "    </tr>\n",
              "  </thead>\n",
              "  <tbody>\n",
              "    <tr>\n",
              "      <th>0</th>\n",
              "      <td>2</td>\n",
              "      <td>G. Pasquale</td>\n",
              "      <td>33</td>\n",
              "      <td>69</td>\n",
              "      <td>Italy</td>\n",
              "      <td>Udinese</td>\n",
              "      <td>71</td>\n",
              "      <td>LWB</td>\n",
              "      <td>LM</td>\n",
              "      <td>https://cdn.sofifa.com/players/000/002/16_120.png</td>\n",
              "      <td>https://cdn.sofifa.com/teams/55/light_60.png</td>\n",
              "      <td>https://cdn.sofifa.com/flags/it.png</td>\n",
              "      <td>69</td>\n",
              "      <td>Udinese 2008 ~ 2016</td>\n",
              "      <td>6'0\"</td>\n",
              "      <td>181lbs</td>\n",
              "      <td>Left</td>\n",
              "      <td>0</td>\n",
              "      <td>Jul 1, 2008</td>\n",
              "      <td>NaN</td>\n",
              "      <td>€625K</td>\n",
              "      <td>€7K</td>\n",
              "      <td>€0</td>\n",
              "      <td>2008 ~ 2016</td>\n",
              "      <td>313</td>\n",
              "      <td>75</td>\n",
              "      <td>50</td>\n",
              "      <td>59</td>\n",
              "      <td>71</td>\n",
              "      <td>58.0</td>\n",
              "      <td>338</td>\n",
              "      <td>73</td>\n",
              "      <td>65.0</td>\n",
              "      <td>60</td>\n",
              "      <td>69</td>\n",
              "      <td>71</td>\n",
              "      <td>347</td>\n",
              "      <td>68</td>\n",
              "      <td>74</td>\n",
              "      <td>68.0</td>\n",
              "      <td>...</td>\n",
              "      <td>3 ★</td>\n",
              "      <td>2★</td>\n",
              "      <td>Medium</td>\n",
              "      <td>High</td>\n",
              "      <td>2 ★</td>\n",
              "      <td>71</td>\n",
              "      <td>59</td>\n",
              "      <td>70</td>\n",
              "      <td>71</td>\n",
              "      <td>68</td>\n",
              "      <td>69</td>\n",
              "      <td>4</td>\n",
              "      <td>65+0</td>\n",
              "      <td>65+0</td>\n",
              "      <td>65+0</td>\n",
              "      <td>68+0</td>\n",
              "      <td>67+0</td>\n",
              "      <td>67+0</td>\n",
              "      <td>67+0</td>\n",
              "      <td>68+0</td>\n",
              "      <td>68+0</td>\n",
              "      <td>68+0</td>\n",
              "      <td>68+0</td>\n",
              "      <td>69+0</td>\n",
              "      <td>69+0</td>\n",
              "      <td>69+0</td>\n",
              "      <td>69+0</td>\n",
              "      <td>69+0</td>\n",
              "      <td>71+-2</td>\n",
              "      <td>70+-1</td>\n",
              "      <td>70+-1</td>\n",
              "      <td>70+-1</td>\n",
              "      <td>71+-2</td>\n",
              "      <td>70+-1</td>\n",
              "      <td>69+0</td>\n",
              "      <td>69+0</td>\n",
              "      <td>69+0</td>\n",
              "      <td>70+-1</td>\n",
              "      <td>17+0</td>\n",
              "      <td>Male</td>\n",
              "    </tr>\n",
              "    <tr>\n",
              "      <th>1</th>\n",
              "      <td>16</td>\n",
              "      <td>Luis García</td>\n",
              "      <td>37</td>\n",
              "      <td>71</td>\n",
              "      <td>Spain</td>\n",
              "      <td>KAS Eupen</td>\n",
              "      <td>70</td>\n",
              "      <td>CM</td>\n",
              "      <td>CM CAM CDM</td>\n",
              "      <td>https://cdn.sofifa.com/players/000/016/19_120.png</td>\n",
              "      <td>https://cdn.sofifa.com/teams/2013/light_60.png</td>\n",
              "      <td>https://cdn.sofifa.com/flags/es.png</td>\n",
              "      <td>71</td>\n",
              "      <td>KAS Eupen 2014 ~ 2019</td>\n",
              "      <td>5'10\"</td>\n",
              "      <td>143lbs</td>\n",
              "      <td>Right</td>\n",
              "      <td>0</td>\n",
              "      <td>Jul 19, 2014</td>\n",
              "      <td>NaN</td>\n",
              "      <td>€600K</td>\n",
              "      <td>€7K</td>\n",
              "      <td>€1.1M</td>\n",
              "      <td>2014 ~ 2019</td>\n",
              "      <td>337</td>\n",
              "      <td>68</td>\n",
              "      <td>64</td>\n",
              "      <td>61</td>\n",
              "      <td>76</td>\n",
              "      <td>68.0</td>\n",
              "      <td>369</td>\n",
              "      <td>69</td>\n",
              "      <td>79.0</td>\n",
              "      <td>79</td>\n",
              "      <td>71</td>\n",
              "      <td>71</td>\n",
              "      <td>305</td>\n",
              "      <td>56</td>\n",
              "      <td>50</td>\n",
              "      <td>62.0</td>\n",
              "      <td>...</td>\n",
              "      <td>4 ★</td>\n",
              "      <td>3★</td>\n",
              "      <td>Medium</td>\n",
              "      <td>Medium</td>\n",
              "      <td>1 ★</td>\n",
              "      <td>53</td>\n",
              "      <td>69</td>\n",
              "      <td>73</td>\n",
              "      <td>69</td>\n",
              "      <td>58</td>\n",
              "      <td>63</td>\n",
              "      <td>4</td>\n",
              "      <td>67+1</td>\n",
              "      <td>67+1</td>\n",
              "      <td>67+1</td>\n",
              "      <td>67+0</td>\n",
              "      <td>68+0</td>\n",
              "      <td>68+0</td>\n",
              "      <td>68+0</td>\n",
              "      <td>67+0</td>\n",
              "      <td>70+1</td>\n",
              "      <td>70+1</td>\n",
              "      <td>70+1</td>\n",
              "      <td>68+1</td>\n",
              "      <td>70+1</td>\n",
              "      <td>70+1</td>\n",
              "      <td>70+1</td>\n",
              "      <td>68+1</td>\n",
              "      <td>62+1</td>\n",
              "      <td>66+1</td>\n",
              "      <td>66+1</td>\n",
              "      <td>66+1</td>\n",
              "      <td>62+1</td>\n",
              "      <td>60+1</td>\n",
              "      <td>60+1</td>\n",
              "      <td>60+1</td>\n",
              "      <td>60+1</td>\n",
              "      <td>60+1</td>\n",
              "      <td>17+1</td>\n",
              "      <td>Male</td>\n",
              "    </tr>\n",
              "    <tr>\n",
              "      <th>2</th>\n",
              "      <td>27</td>\n",
              "      <td>J. Cole</td>\n",
              "      <td>33</td>\n",
              "      <td>71</td>\n",
              "      <td>England</td>\n",
              "      <td>Coventry City</td>\n",
              "      <td>71</td>\n",
              "      <td>CAM</td>\n",
              "      <td>CAM RM RW LM</td>\n",
              "      <td>https://cdn.sofifa.com/players/000/027/16_120.png</td>\n",
              "      <td>https://cdn.sofifa.com/teams/1800/light_60.png</td>\n",
              "      <td>https://cdn.sofifa.com/flags/gb-eng.png</td>\n",
              "      <td>71</td>\n",
              "      <td>Coventry City 2016 ~ 2020</td>\n",
              "      <td>5'9\"</td>\n",
              "      <td>161lbs</td>\n",
              "      <td>Right</td>\n",
              "      <td>0</td>\n",
              "      <td>Jan 7, 2016</td>\n",
              "      <td>NaN</td>\n",
              "      <td>€1.1M</td>\n",
              "      <td>€15K</td>\n",
              "      <td>€0</td>\n",
              "      <td>2016 ~ 2020</td>\n",
              "      <td>337</td>\n",
              "      <td>80</td>\n",
              "      <td>64</td>\n",
              "      <td>41</td>\n",
              "      <td>77</td>\n",
              "      <td>75.0</td>\n",
              "      <td>387</td>\n",
              "      <td>79</td>\n",
              "      <td>84.0</td>\n",
              "      <td>77</td>\n",
              "      <td>69</td>\n",
              "      <td>78</td>\n",
              "      <td>295</td>\n",
              "      <td>48</td>\n",
              "      <td>42</td>\n",
              "      <td>71.0</td>\n",
              "      <td>...</td>\n",
              "      <td>4 ★</td>\n",
              "      <td>4★</td>\n",
              "      <td>Medium</td>\n",
              "      <td>Low</td>\n",
              "      <td>2 ★</td>\n",
              "      <td>45</td>\n",
              "      <td>68</td>\n",
              "      <td>76</td>\n",
              "      <td>77</td>\n",
              "      <td>36</td>\n",
              "      <td>52</td>\n",
              "      <td>11</td>\n",
              "      <td>64+0</td>\n",
              "      <td>64+0</td>\n",
              "      <td>64+0</td>\n",
              "      <td>70+0</td>\n",
              "      <td>69+0</td>\n",
              "      <td>69+0</td>\n",
              "      <td>69+0</td>\n",
              "      <td>70+0</td>\n",
              "      <td>71+0</td>\n",
              "      <td>71+0</td>\n",
              "      <td>71+0</td>\n",
              "      <td>68+0</td>\n",
              "      <td>66+0</td>\n",
              "      <td>66+0</td>\n",
              "      <td>66+0</td>\n",
              "      <td>68+0</td>\n",
              "      <td>52+0</td>\n",
              "      <td>54+0</td>\n",
              "      <td>54+0</td>\n",
              "      <td>54+0</td>\n",
              "      <td>52+0</td>\n",
              "      <td>47+0</td>\n",
              "      <td>46+0</td>\n",
              "      <td>46+0</td>\n",
              "      <td>46+0</td>\n",
              "      <td>47+0</td>\n",
              "      <td>15+0</td>\n",
              "      <td>Male</td>\n",
              "    </tr>\n",
              "    <tr>\n",
              "      <th>3</th>\n",
              "      <td>36</td>\n",
              "      <td>D. Yorke</td>\n",
              "      <td>36</td>\n",
              "      <td>68</td>\n",
              "      <td>Trinidad &amp;amp; Tobago</td>\n",
              "      <td>Sunderland</td>\n",
              "      <td>70</td>\n",
              "      <td>ST</td>\n",
              "      <td>NaN</td>\n",
              "      <td>https://cdn.sofifa.com/players/000/036/09_120.png</td>\n",
              "      <td>https://cdn.sofifa.com/teams/106/light_60.png</td>\n",
              "      <td>https://cdn.sofifa.com/flags/tt.png</td>\n",
              "      <td>82</td>\n",
              "      <td>Sunderland 2009</td>\n",
              "      <td>5'11\"</td>\n",
              "      <td>165lbs</td>\n",
              "      <td>Right</td>\n",
              "      <td>14</td>\n",
              "      <td>NaN</td>\n",
              "      <td>NaN</td>\n",
              "      <td>€0</td>\n",
              "      <td>€0</td>\n",
              "      <td>€0</td>\n",
              "      <td>2009</td>\n",
              "      <td>264</td>\n",
              "      <td>54</td>\n",
              "      <td>70</td>\n",
              "      <td>60</td>\n",
              "      <td>80</td>\n",
              "      <td>NaN</td>\n",
              "      <td>255</td>\n",
              "      <td>68</td>\n",
              "      <td>NaN</td>\n",
              "      <td>46</td>\n",
              "      <td>64</td>\n",
              "      <td>77</td>\n",
              "      <td>176</td>\n",
              "      <td>59</td>\n",
              "      <td>62</td>\n",
              "      <td>NaN</td>\n",
              "      <td>...</td>\n",
              "      <td>3 ★</td>\n",
              "      <td>1★</td>\n",
              "      <td>NaN</td>\n",
              "      <td>NaN</td>\n",
              "      <td>1 ★</td>\n",
              "      <td>61</td>\n",
              "      <td>66</td>\n",
              "      <td>66</td>\n",
              "      <td>69</td>\n",
              "      <td>47</td>\n",
              "      <td>60</td>\n",
              "      <td>3</td>\n",
              "      <td>67+0</td>\n",
              "      <td>67+0</td>\n",
              "      <td>67+0</td>\n",
              "      <td>66+0</td>\n",
              "      <td>67+0</td>\n",
              "      <td>67+0</td>\n",
              "      <td>67+0</td>\n",
              "      <td>66+0</td>\n",
              "      <td>70+0</td>\n",
              "      <td>70+0</td>\n",
              "      <td>70+0</td>\n",
              "      <td>66+0</td>\n",
              "      <td>68+0</td>\n",
              "      <td>68+0</td>\n",
              "      <td>68+0</td>\n",
              "      <td>66+0</td>\n",
              "      <td>56+0</td>\n",
              "      <td>65+0</td>\n",
              "      <td>65+0</td>\n",
              "      <td>65+0</td>\n",
              "      <td>56+0</td>\n",
              "      <td>57+0</td>\n",
              "      <td>51+0</td>\n",
              "      <td>51+0</td>\n",
              "      <td>51+0</td>\n",
              "      <td>57+0</td>\n",
              "      <td>22+0</td>\n",
              "      <td>Male</td>\n",
              "    </tr>\n",
              "    <tr>\n",
              "      <th>4</th>\n",
              "      <td>41</td>\n",
              "      <td>Iniesta</td>\n",
              "      <td>36</td>\n",
              "      <td>81</td>\n",
              "      <td>Spain</td>\n",
              "      <td>Vissel Kobe</td>\n",
              "      <td>82</td>\n",
              "      <td>CAM</td>\n",
              "      <td>CM CAM</td>\n",
              "      <td>https://cdn.sofifa.com/players/000/041/20_120.png</td>\n",
              "      <td>https://cdn.sofifa.com/teams/101146/light_60.png</td>\n",
              "      <td>https://cdn.sofifa.com/flags/es.png</td>\n",
              "      <td>81</td>\n",
              "      <td>Vissel Kobe 2018 ~ 2021</td>\n",
              "      <td>5'7\"</td>\n",
              "      <td>150lbs</td>\n",
              "      <td>Right</td>\n",
              "      <td>0</td>\n",
              "      <td>Jul 16, 2018</td>\n",
              "      <td>NaN</td>\n",
              "      <td>€5.5M</td>\n",
              "      <td>€12K</td>\n",
              "      <td>€7.2M</td>\n",
              "      <td>2018 ~ 2021</td>\n",
              "      <td>367</td>\n",
              "      <td>75</td>\n",
              "      <td>69</td>\n",
              "      <td>54</td>\n",
              "      <td>90</td>\n",
              "      <td>79.0</td>\n",
              "      <td>408</td>\n",
              "      <td>85</td>\n",
              "      <td>80.0</td>\n",
              "      <td>70</td>\n",
              "      <td>83</td>\n",
              "      <td>90</td>\n",
              "      <td>346</td>\n",
              "      <td>61</td>\n",
              "      <td>56</td>\n",
              "      <td>79.0</td>\n",
              "      <td>...</td>\n",
              "      <td>4 ★</td>\n",
              "      <td>4★</td>\n",
              "      <td>High</td>\n",
              "      <td>Medium</td>\n",
              "      <td>4 ★</td>\n",
              "      <td>58</td>\n",
              "      <td>70</td>\n",
              "      <td>85</td>\n",
              "      <td>85</td>\n",
              "      <td>63</td>\n",
              "      <td>59</td>\n",
              "      <td>149</td>\n",
              "      <td>72+3</td>\n",
              "      <td>72+3</td>\n",
              "      <td>72+3</td>\n",
              "      <td>79+0</td>\n",
              "      <td>79+0</td>\n",
              "      <td>79+0</td>\n",
              "      <td>79+0</td>\n",
              "      <td>79+0</td>\n",
              "      <td>82+-1</td>\n",
              "      <td>82+-1</td>\n",
              "      <td>82+-1</td>\n",
              "      <td>79+2</td>\n",
              "      <td>81+0</td>\n",
              "      <td>81+0</td>\n",
              "      <td>81+0</td>\n",
              "      <td>79+2</td>\n",
              "      <td>70+3</td>\n",
              "      <td>73+3</td>\n",
              "      <td>73+3</td>\n",
              "      <td>73+3</td>\n",
              "      <td>70+3</td>\n",
              "      <td>67+3</td>\n",
              "      <td>64+3</td>\n",
              "      <td>64+3</td>\n",
              "      <td>64+3</td>\n",
              "      <td>67+3</td>\n",
              "      <td>17+3</td>\n",
              "      <td>Male</td>\n",
              "    </tr>\n",
              "  </tbody>\n",
              "</table>\n",
              "<p>5 rows × 107 columns</p>\n",
              "</div>\n",
              "      <button class=\"colab-df-convert\" onclick=\"convertToInteractive('df-647953f9-4d3e-49ac-9080-f821f88927c7')\"\n",
              "              title=\"Convert this dataframe to an interactive table.\"\n",
              "              style=\"display:none;\">\n",
              "        \n",
              "  <svg xmlns=\"http://www.w3.org/2000/svg\" height=\"24px\"viewBox=\"0 0 24 24\"\n",
              "       width=\"24px\">\n",
              "    <path d=\"M0 0h24v24H0V0z\" fill=\"none\"/>\n",
              "    <path d=\"M18.56 5.44l.94 2.06.94-2.06 2.06-.94-2.06-.94-.94-2.06-.94 2.06-2.06.94zm-11 1L8.5 8.5l.94-2.06 2.06-.94-2.06-.94L8.5 2.5l-.94 2.06-2.06.94zm10 10l.94 2.06.94-2.06 2.06-.94-2.06-.94-.94-2.06-.94 2.06-2.06.94z\"/><path d=\"M17.41 7.96l-1.37-1.37c-.4-.4-.92-.59-1.43-.59-.52 0-1.04.2-1.43.59L10.3 9.45l-7.72 7.72c-.78.78-.78 2.05 0 2.83L4 21.41c.39.39.9.59 1.41.59.51 0 1.02-.2 1.41-.59l7.78-7.78 2.81-2.81c.8-.78.8-2.07 0-2.86zM5.41 20L4 18.59l7.72-7.72 1.47 1.35L5.41 20z\"/>\n",
              "  </svg>\n",
              "      </button>\n",
              "      \n",
              "  <style>\n",
              "    .colab-df-container {\n",
              "      display:flex;\n",
              "      flex-wrap:wrap;\n",
              "      gap: 12px;\n",
              "    }\n",
              "\n",
              "    .colab-df-convert {\n",
              "      background-color: #E8F0FE;\n",
              "      border: none;\n",
              "      border-radius: 50%;\n",
              "      cursor: pointer;\n",
              "      display: none;\n",
              "      fill: #1967D2;\n",
              "      height: 32px;\n",
              "      padding: 0 0 0 0;\n",
              "      width: 32px;\n",
              "    }\n",
              "\n",
              "    .colab-df-convert:hover {\n",
              "      background-color: #E2EBFA;\n",
              "      box-shadow: 0px 1px 2px rgba(60, 64, 67, 0.3), 0px 1px 3px 1px rgba(60, 64, 67, 0.15);\n",
              "      fill: #174EA6;\n",
              "    }\n",
              "\n",
              "    [theme=dark] .colab-df-convert {\n",
              "      background-color: #3B4455;\n",
              "      fill: #D2E3FC;\n",
              "    }\n",
              "\n",
              "    [theme=dark] .colab-df-convert:hover {\n",
              "      background-color: #434B5C;\n",
              "      box-shadow: 0px 1px 3px 1px rgba(0, 0, 0, 0.15);\n",
              "      filter: drop-shadow(0px 1px 2px rgba(0, 0, 0, 0.3));\n",
              "      fill: #FFFFFF;\n",
              "    }\n",
              "  </style>\n",
              "\n",
              "      <script>\n",
              "        const buttonEl =\n",
              "          document.querySelector('#df-647953f9-4d3e-49ac-9080-f821f88927c7 button.colab-df-convert');\n",
              "        buttonEl.style.display =\n",
              "          google.colab.kernel.accessAllowed ? 'block' : 'none';\n",
              "\n",
              "        async function convertToInteractive(key) {\n",
              "          const element = document.querySelector('#df-647953f9-4d3e-49ac-9080-f821f88927c7');\n",
              "          const dataTable =\n",
              "            await google.colab.kernel.invokeFunction('convertToInteractive',\n",
              "                                                     [key], {});\n",
              "          if (!dataTable) return;\n",
              "\n",
              "          const docLinkHtml = 'Like what you see? Visit the ' +\n",
              "            '<a target=\"_blank\" href=https://colab.research.google.com/notebooks/data_table.ipynb>data table notebook</a>'\n",
              "            + ' to learn more about interactive tables.';\n",
              "          element.innerHTML = '';\n",
              "          dataTable['output_type'] = 'display_data';\n",
              "          await google.colab.output.renderOutput(dataTable, element);\n",
              "          const docLink = document.createElement('div');\n",
              "          docLink.innerHTML = docLinkHtml;\n",
              "          element.appendChild(docLink);\n",
              "        }\n",
              "      </script>\n",
              "    </div>\n",
              "  </div>\n",
              "  "
            ],
            "text/plain": [
              "   ID         Name  Age  OVA  ...   RCB     RB    GK Gender\n",
              "0   2  G. Pasquale   33   69  ...  69+0  70+-1  17+0   Male\n",
              "1  16  Luis García   37   71  ...  60+1   60+1  17+1   Male\n",
              "2  27      J. Cole   33   71  ...  46+0   47+0  15+0   Male\n",
              "3  36     D. Yorke   36   68  ...  51+0   57+0  22+0   Male\n",
              "4  41      Iniesta   36   81  ...  64+3   67+3  17+3   Male\n",
              "\n",
              "[5 rows x 107 columns]"
            ]
          },
          "metadata": {},
          "execution_count": 123
        }
      ]
    },
    {
      "cell_type": "code",
      "source": [
        "df.rename(columns=( {'Sprint Speed':'Sprint_Speed','GK Positioning':'GK_Positioning','GK Handling':'GK_Handling','GK Diving':'GK_Diving','GK Reflexes':'GK_Reflexes','GK Kicking':'GK_Kicking','Short Passing':'Short_Pass','Long Passing':'Long_Pass','Sliding Tackle':'Sliding_Tackle','Standing Tackle':'Standing_Tackle','Long Shots':'Long_Shots','Heading Accuracy':'Heading','Ball Control':'Ball_Control','FK Accuracy':'FK_Accuracy','W/F':'wf'}), inplace=True)"
      ],
      "metadata": {
        "id": "TH4rBI46621m"
      },
      "execution_count": 124,
      "outputs": []
    },
    {
      "cell_type": "code",
      "source": [
        "df.drop(['Player Photo', 'Club Logo','Flag Photo','Gender'],axis=1,inplace=True) #deletes the columns-: Player Photo , Club Logo , Flag Photo , Genfer\n",
        "df.head()"
      ],
      "metadata": {
        "colab": {
          "base_uri": "https://localhost:8080/",
          "height": 525
        },
        "id": "Rn129XyBxnWf",
        "outputId": "b8d60b56-fae0-45a1-f40c-5f87a440797f"
      },
      "execution_count": 125,
      "outputs": [
        {
          "output_type": "execute_result",
          "data": {
            "text/html": [
              "\n",
              "  <div id=\"df-ebfd66ea-b272-4e73-90bf-a1bc7f1c0189\">\n",
              "    <div class=\"colab-df-container\">\n",
              "      <div>\n",
              "<style scoped>\n",
              "    .dataframe tbody tr th:only-of-type {\n",
              "        vertical-align: middle;\n",
              "    }\n",
              "\n",
              "    .dataframe tbody tr th {\n",
              "        vertical-align: top;\n",
              "    }\n",
              "\n",
              "    .dataframe thead th {\n",
              "        text-align: right;\n",
              "    }\n",
              "</style>\n",
              "<table border=\"1\" class=\"dataframe\">\n",
              "  <thead>\n",
              "    <tr style=\"text-align: right;\">\n",
              "      <th></th>\n",
              "      <th>ID</th>\n",
              "      <th>Name</th>\n",
              "      <th>Age</th>\n",
              "      <th>OVA</th>\n",
              "      <th>Nationality</th>\n",
              "      <th>Club</th>\n",
              "      <th>BOV</th>\n",
              "      <th>BP</th>\n",
              "      <th>Position</th>\n",
              "      <th>POT</th>\n",
              "      <th>Team &amp; Contract</th>\n",
              "      <th>Height</th>\n",
              "      <th>Weight</th>\n",
              "      <th>foot</th>\n",
              "      <th>Growth</th>\n",
              "      <th>Joined</th>\n",
              "      <th>Loan Date End</th>\n",
              "      <th>Value</th>\n",
              "      <th>Wage</th>\n",
              "      <th>Release Clause</th>\n",
              "      <th>Contract</th>\n",
              "      <th>Attacking</th>\n",
              "      <th>Crossing</th>\n",
              "      <th>Finishing</th>\n",
              "      <th>Heading</th>\n",
              "      <th>Short_Pass</th>\n",
              "      <th>Volleys</th>\n",
              "      <th>Skill</th>\n",
              "      <th>Dribbling</th>\n",
              "      <th>Curve</th>\n",
              "      <th>FK_Accuracy</th>\n",
              "      <th>Long_Pass</th>\n",
              "      <th>Ball_Control</th>\n",
              "      <th>Movement</th>\n",
              "      <th>Acceleration</th>\n",
              "      <th>Sprint_Speed</th>\n",
              "      <th>Agility</th>\n",
              "      <th>Reactions</th>\n",
              "      <th>Balance</th>\n",
              "      <th>Power</th>\n",
              "      <th>...</th>\n",
              "      <th>Base Stats</th>\n",
              "      <th>wf</th>\n",
              "      <th>SM</th>\n",
              "      <th>A/W</th>\n",
              "      <th>D/W</th>\n",
              "      <th>IR</th>\n",
              "      <th>PAC</th>\n",
              "      <th>SHO</th>\n",
              "      <th>PAS</th>\n",
              "      <th>DRI</th>\n",
              "      <th>DEF</th>\n",
              "      <th>PHY</th>\n",
              "      <th>Hits</th>\n",
              "      <th>LS</th>\n",
              "      <th>ST</th>\n",
              "      <th>RS</th>\n",
              "      <th>LW</th>\n",
              "      <th>LF</th>\n",
              "      <th>CF</th>\n",
              "      <th>RF</th>\n",
              "      <th>RW</th>\n",
              "      <th>LAM</th>\n",
              "      <th>CAM</th>\n",
              "      <th>RAM</th>\n",
              "      <th>LM</th>\n",
              "      <th>LCM</th>\n",
              "      <th>CM</th>\n",
              "      <th>RCM</th>\n",
              "      <th>RM</th>\n",
              "      <th>LWB</th>\n",
              "      <th>LDM</th>\n",
              "      <th>CDM</th>\n",
              "      <th>RDM</th>\n",
              "      <th>RWB</th>\n",
              "      <th>LB</th>\n",
              "      <th>LCB</th>\n",
              "      <th>CB</th>\n",
              "      <th>RCB</th>\n",
              "      <th>RB</th>\n",
              "      <th>GK</th>\n",
              "    </tr>\n",
              "  </thead>\n",
              "  <tbody>\n",
              "    <tr>\n",
              "      <th>0</th>\n",
              "      <td>2</td>\n",
              "      <td>G. Pasquale</td>\n",
              "      <td>33</td>\n",
              "      <td>69</td>\n",
              "      <td>Italy</td>\n",
              "      <td>Udinese</td>\n",
              "      <td>71</td>\n",
              "      <td>LWB</td>\n",
              "      <td>LM</td>\n",
              "      <td>69</td>\n",
              "      <td>Udinese 2008 ~ 2016</td>\n",
              "      <td>6'0\"</td>\n",
              "      <td>181lbs</td>\n",
              "      <td>Left</td>\n",
              "      <td>0</td>\n",
              "      <td>Jul 1, 2008</td>\n",
              "      <td>NaN</td>\n",
              "      <td>€625K</td>\n",
              "      <td>€7K</td>\n",
              "      <td>€0</td>\n",
              "      <td>2008 ~ 2016</td>\n",
              "      <td>313</td>\n",
              "      <td>75</td>\n",
              "      <td>50</td>\n",
              "      <td>59</td>\n",
              "      <td>71</td>\n",
              "      <td>58.0</td>\n",
              "      <td>338</td>\n",
              "      <td>73</td>\n",
              "      <td>65.0</td>\n",
              "      <td>60</td>\n",
              "      <td>69</td>\n",
              "      <td>71</td>\n",
              "      <td>347</td>\n",
              "      <td>68</td>\n",
              "      <td>74</td>\n",
              "      <td>68.0</td>\n",
              "      <td>69</td>\n",
              "      <td>68.0</td>\n",
              "      <td>347</td>\n",
              "      <td>...</td>\n",
              "      <td>408</td>\n",
              "      <td>3 ★</td>\n",
              "      <td>2★</td>\n",
              "      <td>Medium</td>\n",
              "      <td>High</td>\n",
              "      <td>2 ★</td>\n",
              "      <td>71</td>\n",
              "      <td>59</td>\n",
              "      <td>70</td>\n",
              "      <td>71</td>\n",
              "      <td>68</td>\n",
              "      <td>69</td>\n",
              "      <td>4</td>\n",
              "      <td>65+0</td>\n",
              "      <td>65+0</td>\n",
              "      <td>65+0</td>\n",
              "      <td>68+0</td>\n",
              "      <td>67+0</td>\n",
              "      <td>67+0</td>\n",
              "      <td>67+0</td>\n",
              "      <td>68+0</td>\n",
              "      <td>68+0</td>\n",
              "      <td>68+0</td>\n",
              "      <td>68+0</td>\n",
              "      <td>69+0</td>\n",
              "      <td>69+0</td>\n",
              "      <td>69+0</td>\n",
              "      <td>69+0</td>\n",
              "      <td>69+0</td>\n",
              "      <td>71+-2</td>\n",
              "      <td>70+-1</td>\n",
              "      <td>70+-1</td>\n",
              "      <td>70+-1</td>\n",
              "      <td>71+-2</td>\n",
              "      <td>70+-1</td>\n",
              "      <td>69+0</td>\n",
              "      <td>69+0</td>\n",
              "      <td>69+0</td>\n",
              "      <td>70+-1</td>\n",
              "      <td>17+0</td>\n",
              "    </tr>\n",
              "    <tr>\n",
              "      <th>1</th>\n",
              "      <td>16</td>\n",
              "      <td>Luis García</td>\n",
              "      <td>37</td>\n",
              "      <td>71</td>\n",
              "      <td>Spain</td>\n",
              "      <td>KAS Eupen</td>\n",
              "      <td>70</td>\n",
              "      <td>CM</td>\n",
              "      <td>CM CAM CDM</td>\n",
              "      <td>71</td>\n",
              "      <td>KAS Eupen 2014 ~ 2019</td>\n",
              "      <td>5'10\"</td>\n",
              "      <td>143lbs</td>\n",
              "      <td>Right</td>\n",
              "      <td>0</td>\n",
              "      <td>Jul 19, 2014</td>\n",
              "      <td>NaN</td>\n",
              "      <td>€600K</td>\n",
              "      <td>€7K</td>\n",
              "      <td>€1.1M</td>\n",
              "      <td>2014 ~ 2019</td>\n",
              "      <td>337</td>\n",
              "      <td>68</td>\n",
              "      <td>64</td>\n",
              "      <td>61</td>\n",
              "      <td>76</td>\n",
              "      <td>68.0</td>\n",
              "      <td>369</td>\n",
              "      <td>69</td>\n",
              "      <td>79.0</td>\n",
              "      <td>79</td>\n",
              "      <td>71</td>\n",
              "      <td>71</td>\n",
              "      <td>305</td>\n",
              "      <td>56</td>\n",
              "      <td>50</td>\n",
              "      <td>62.0</td>\n",
              "      <td>65</td>\n",
              "      <td>72.0</td>\n",
              "      <td>324</td>\n",
              "      <td>...</td>\n",
              "      <td>385</td>\n",
              "      <td>4 ★</td>\n",
              "      <td>3★</td>\n",
              "      <td>Medium</td>\n",
              "      <td>Medium</td>\n",
              "      <td>1 ★</td>\n",
              "      <td>53</td>\n",
              "      <td>69</td>\n",
              "      <td>73</td>\n",
              "      <td>69</td>\n",
              "      <td>58</td>\n",
              "      <td>63</td>\n",
              "      <td>4</td>\n",
              "      <td>67+1</td>\n",
              "      <td>67+1</td>\n",
              "      <td>67+1</td>\n",
              "      <td>67+0</td>\n",
              "      <td>68+0</td>\n",
              "      <td>68+0</td>\n",
              "      <td>68+0</td>\n",
              "      <td>67+0</td>\n",
              "      <td>70+1</td>\n",
              "      <td>70+1</td>\n",
              "      <td>70+1</td>\n",
              "      <td>68+1</td>\n",
              "      <td>70+1</td>\n",
              "      <td>70+1</td>\n",
              "      <td>70+1</td>\n",
              "      <td>68+1</td>\n",
              "      <td>62+1</td>\n",
              "      <td>66+1</td>\n",
              "      <td>66+1</td>\n",
              "      <td>66+1</td>\n",
              "      <td>62+1</td>\n",
              "      <td>60+1</td>\n",
              "      <td>60+1</td>\n",
              "      <td>60+1</td>\n",
              "      <td>60+1</td>\n",
              "      <td>60+1</td>\n",
              "      <td>17+1</td>\n",
              "    </tr>\n",
              "    <tr>\n",
              "      <th>2</th>\n",
              "      <td>27</td>\n",
              "      <td>J. Cole</td>\n",
              "      <td>33</td>\n",
              "      <td>71</td>\n",
              "      <td>England</td>\n",
              "      <td>Coventry City</td>\n",
              "      <td>71</td>\n",
              "      <td>CAM</td>\n",
              "      <td>CAM RM RW LM</td>\n",
              "      <td>71</td>\n",
              "      <td>Coventry City 2016 ~ 2020</td>\n",
              "      <td>5'9\"</td>\n",
              "      <td>161lbs</td>\n",
              "      <td>Right</td>\n",
              "      <td>0</td>\n",
              "      <td>Jan 7, 2016</td>\n",
              "      <td>NaN</td>\n",
              "      <td>€1.1M</td>\n",
              "      <td>€15K</td>\n",
              "      <td>€0</td>\n",
              "      <td>2016 ~ 2020</td>\n",
              "      <td>337</td>\n",
              "      <td>80</td>\n",
              "      <td>64</td>\n",
              "      <td>41</td>\n",
              "      <td>77</td>\n",
              "      <td>75.0</td>\n",
              "      <td>387</td>\n",
              "      <td>79</td>\n",
              "      <td>84.0</td>\n",
              "      <td>77</td>\n",
              "      <td>69</td>\n",
              "      <td>78</td>\n",
              "      <td>295</td>\n",
              "      <td>48</td>\n",
              "      <td>42</td>\n",
              "      <td>71.0</td>\n",
              "      <td>59</td>\n",
              "      <td>75.0</td>\n",
              "      <td>284</td>\n",
              "      <td>...</td>\n",
              "      <td>354</td>\n",
              "      <td>4 ★</td>\n",
              "      <td>4★</td>\n",
              "      <td>Medium</td>\n",
              "      <td>Low</td>\n",
              "      <td>2 ★</td>\n",
              "      <td>45</td>\n",
              "      <td>68</td>\n",
              "      <td>76</td>\n",
              "      <td>77</td>\n",
              "      <td>36</td>\n",
              "      <td>52</td>\n",
              "      <td>11</td>\n",
              "      <td>64+0</td>\n",
              "      <td>64+0</td>\n",
              "      <td>64+0</td>\n",
              "      <td>70+0</td>\n",
              "      <td>69+0</td>\n",
              "      <td>69+0</td>\n",
              "      <td>69+0</td>\n",
              "      <td>70+0</td>\n",
              "      <td>71+0</td>\n",
              "      <td>71+0</td>\n",
              "      <td>71+0</td>\n",
              "      <td>68+0</td>\n",
              "      <td>66+0</td>\n",
              "      <td>66+0</td>\n",
              "      <td>66+0</td>\n",
              "      <td>68+0</td>\n",
              "      <td>52+0</td>\n",
              "      <td>54+0</td>\n",
              "      <td>54+0</td>\n",
              "      <td>54+0</td>\n",
              "      <td>52+0</td>\n",
              "      <td>47+0</td>\n",
              "      <td>46+0</td>\n",
              "      <td>46+0</td>\n",
              "      <td>46+0</td>\n",
              "      <td>47+0</td>\n",
              "      <td>15+0</td>\n",
              "    </tr>\n",
              "    <tr>\n",
              "      <th>3</th>\n",
              "      <td>36</td>\n",
              "      <td>D. Yorke</td>\n",
              "      <td>36</td>\n",
              "      <td>68</td>\n",
              "      <td>Trinidad &amp;amp; Tobago</td>\n",
              "      <td>Sunderland</td>\n",
              "      <td>70</td>\n",
              "      <td>ST</td>\n",
              "      <td>NaN</td>\n",
              "      <td>82</td>\n",
              "      <td>Sunderland 2009</td>\n",
              "      <td>5'11\"</td>\n",
              "      <td>165lbs</td>\n",
              "      <td>Right</td>\n",
              "      <td>14</td>\n",
              "      <td>NaN</td>\n",
              "      <td>NaN</td>\n",
              "      <td>€0</td>\n",
              "      <td>€0</td>\n",
              "      <td>€0</td>\n",
              "      <td>2009</td>\n",
              "      <td>264</td>\n",
              "      <td>54</td>\n",
              "      <td>70</td>\n",
              "      <td>60</td>\n",
              "      <td>80</td>\n",
              "      <td>NaN</td>\n",
              "      <td>255</td>\n",
              "      <td>68</td>\n",
              "      <td>NaN</td>\n",
              "      <td>46</td>\n",
              "      <td>64</td>\n",
              "      <td>77</td>\n",
              "      <td>176</td>\n",
              "      <td>59</td>\n",
              "      <td>62</td>\n",
              "      <td>NaN</td>\n",
              "      <td>55</td>\n",
              "      <td>NaN</td>\n",
              "      <td>239</td>\n",
              "      <td>...</td>\n",
              "      <td>369</td>\n",
              "      <td>3 ★</td>\n",
              "      <td>1★</td>\n",
              "      <td>NaN</td>\n",
              "      <td>NaN</td>\n",
              "      <td>1 ★</td>\n",
              "      <td>61</td>\n",
              "      <td>66</td>\n",
              "      <td>66</td>\n",
              "      <td>69</td>\n",
              "      <td>47</td>\n",
              "      <td>60</td>\n",
              "      <td>3</td>\n",
              "      <td>67+0</td>\n",
              "      <td>67+0</td>\n",
              "      <td>67+0</td>\n",
              "      <td>66+0</td>\n",
              "      <td>67+0</td>\n",
              "      <td>67+0</td>\n",
              "      <td>67+0</td>\n",
              "      <td>66+0</td>\n",
              "      <td>70+0</td>\n",
              "      <td>70+0</td>\n",
              "      <td>70+0</td>\n",
              "      <td>66+0</td>\n",
              "      <td>68+0</td>\n",
              "      <td>68+0</td>\n",
              "      <td>68+0</td>\n",
              "      <td>66+0</td>\n",
              "      <td>56+0</td>\n",
              "      <td>65+0</td>\n",
              "      <td>65+0</td>\n",
              "      <td>65+0</td>\n",
              "      <td>56+0</td>\n",
              "      <td>57+0</td>\n",
              "      <td>51+0</td>\n",
              "      <td>51+0</td>\n",
              "      <td>51+0</td>\n",
              "      <td>57+0</td>\n",
              "      <td>22+0</td>\n",
              "    </tr>\n",
              "    <tr>\n",
              "      <th>4</th>\n",
              "      <td>41</td>\n",
              "      <td>Iniesta</td>\n",
              "      <td>36</td>\n",
              "      <td>81</td>\n",
              "      <td>Spain</td>\n",
              "      <td>Vissel Kobe</td>\n",
              "      <td>82</td>\n",
              "      <td>CAM</td>\n",
              "      <td>CM CAM</td>\n",
              "      <td>81</td>\n",
              "      <td>Vissel Kobe 2018 ~ 2021</td>\n",
              "      <td>5'7\"</td>\n",
              "      <td>150lbs</td>\n",
              "      <td>Right</td>\n",
              "      <td>0</td>\n",
              "      <td>Jul 16, 2018</td>\n",
              "      <td>NaN</td>\n",
              "      <td>€5.5M</td>\n",
              "      <td>€12K</td>\n",
              "      <td>€7.2M</td>\n",
              "      <td>2018 ~ 2021</td>\n",
              "      <td>367</td>\n",
              "      <td>75</td>\n",
              "      <td>69</td>\n",
              "      <td>54</td>\n",
              "      <td>90</td>\n",
              "      <td>79.0</td>\n",
              "      <td>408</td>\n",
              "      <td>85</td>\n",
              "      <td>80.0</td>\n",
              "      <td>70</td>\n",
              "      <td>83</td>\n",
              "      <td>90</td>\n",
              "      <td>346</td>\n",
              "      <td>61</td>\n",
              "      <td>56</td>\n",
              "      <td>79.0</td>\n",
              "      <td>75</td>\n",
              "      <td>75.0</td>\n",
              "      <td>297</td>\n",
              "      <td>...</td>\n",
              "      <td>420</td>\n",
              "      <td>4 ★</td>\n",
              "      <td>4★</td>\n",
              "      <td>High</td>\n",
              "      <td>Medium</td>\n",
              "      <td>4 ★</td>\n",
              "      <td>58</td>\n",
              "      <td>70</td>\n",
              "      <td>85</td>\n",
              "      <td>85</td>\n",
              "      <td>63</td>\n",
              "      <td>59</td>\n",
              "      <td>149</td>\n",
              "      <td>72+3</td>\n",
              "      <td>72+3</td>\n",
              "      <td>72+3</td>\n",
              "      <td>79+0</td>\n",
              "      <td>79+0</td>\n",
              "      <td>79+0</td>\n",
              "      <td>79+0</td>\n",
              "      <td>79+0</td>\n",
              "      <td>82+-1</td>\n",
              "      <td>82+-1</td>\n",
              "      <td>82+-1</td>\n",
              "      <td>79+2</td>\n",
              "      <td>81+0</td>\n",
              "      <td>81+0</td>\n",
              "      <td>81+0</td>\n",
              "      <td>79+2</td>\n",
              "      <td>70+3</td>\n",
              "      <td>73+3</td>\n",
              "      <td>73+3</td>\n",
              "      <td>73+3</td>\n",
              "      <td>70+3</td>\n",
              "      <td>67+3</td>\n",
              "      <td>64+3</td>\n",
              "      <td>64+3</td>\n",
              "      <td>64+3</td>\n",
              "      <td>67+3</td>\n",
              "      <td>17+3</td>\n",
              "    </tr>\n",
              "  </tbody>\n",
              "</table>\n",
              "<p>5 rows × 103 columns</p>\n",
              "</div>\n",
              "      <button class=\"colab-df-convert\" onclick=\"convertToInteractive('df-ebfd66ea-b272-4e73-90bf-a1bc7f1c0189')\"\n",
              "              title=\"Convert this dataframe to an interactive table.\"\n",
              "              style=\"display:none;\">\n",
              "        \n",
              "  <svg xmlns=\"http://www.w3.org/2000/svg\" height=\"24px\"viewBox=\"0 0 24 24\"\n",
              "       width=\"24px\">\n",
              "    <path d=\"M0 0h24v24H0V0z\" fill=\"none\"/>\n",
              "    <path d=\"M18.56 5.44l.94 2.06.94-2.06 2.06-.94-2.06-.94-.94-2.06-.94 2.06-2.06.94zm-11 1L8.5 8.5l.94-2.06 2.06-.94-2.06-.94L8.5 2.5l-.94 2.06-2.06.94zm10 10l.94 2.06.94-2.06 2.06-.94-2.06-.94-.94-2.06-.94 2.06-2.06.94z\"/><path d=\"M17.41 7.96l-1.37-1.37c-.4-.4-.92-.59-1.43-.59-.52 0-1.04.2-1.43.59L10.3 9.45l-7.72 7.72c-.78.78-.78 2.05 0 2.83L4 21.41c.39.39.9.59 1.41.59.51 0 1.02-.2 1.41-.59l7.78-7.78 2.81-2.81c.8-.78.8-2.07 0-2.86zM5.41 20L4 18.59l7.72-7.72 1.47 1.35L5.41 20z\"/>\n",
              "  </svg>\n",
              "      </button>\n",
              "      \n",
              "  <style>\n",
              "    .colab-df-container {\n",
              "      display:flex;\n",
              "      flex-wrap:wrap;\n",
              "      gap: 12px;\n",
              "    }\n",
              "\n",
              "    .colab-df-convert {\n",
              "      background-color: #E8F0FE;\n",
              "      border: none;\n",
              "      border-radius: 50%;\n",
              "      cursor: pointer;\n",
              "      display: none;\n",
              "      fill: #1967D2;\n",
              "      height: 32px;\n",
              "      padding: 0 0 0 0;\n",
              "      width: 32px;\n",
              "    }\n",
              "\n",
              "    .colab-df-convert:hover {\n",
              "      background-color: #E2EBFA;\n",
              "      box-shadow: 0px 1px 2px rgba(60, 64, 67, 0.3), 0px 1px 3px 1px rgba(60, 64, 67, 0.15);\n",
              "      fill: #174EA6;\n",
              "    }\n",
              "\n",
              "    [theme=dark] .colab-df-convert {\n",
              "      background-color: #3B4455;\n",
              "      fill: #D2E3FC;\n",
              "    }\n",
              "\n",
              "    [theme=dark] .colab-df-convert:hover {\n",
              "      background-color: #434B5C;\n",
              "      box-shadow: 0px 1px 3px 1px rgba(0, 0, 0, 0.15);\n",
              "      filter: drop-shadow(0px 1px 2px rgba(0, 0, 0, 0.3));\n",
              "      fill: #FFFFFF;\n",
              "    }\n",
              "  </style>\n",
              "\n",
              "      <script>\n",
              "        const buttonEl =\n",
              "          document.querySelector('#df-ebfd66ea-b272-4e73-90bf-a1bc7f1c0189 button.colab-df-convert');\n",
              "        buttonEl.style.display =\n",
              "          google.colab.kernel.accessAllowed ? 'block' : 'none';\n",
              "\n",
              "        async function convertToInteractive(key) {\n",
              "          const element = document.querySelector('#df-ebfd66ea-b272-4e73-90bf-a1bc7f1c0189');\n",
              "          const dataTable =\n",
              "            await google.colab.kernel.invokeFunction('convertToInteractive',\n",
              "                                                     [key], {});\n",
              "          if (!dataTable) return;\n",
              "\n",
              "          const docLinkHtml = 'Like what you see? Visit the ' +\n",
              "            '<a target=\"_blank\" href=https://colab.research.google.com/notebooks/data_table.ipynb>data table notebook</a>'\n",
              "            + ' to learn more about interactive tables.';\n",
              "          element.innerHTML = '';\n",
              "          dataTable['output_type'] = 'display_data';\n",
              "          await google.colab.output.renderOutput(dataTable, element);\n",
              "          const docLink = document.createElement('div');\n",
              "          docLink.innerHTML = docLinkHtml;\n",
              "          element.appendChild(docLink);\n",
              "        }\n",
              "      </script>\n",
              "    </div>\n",
              "  </div>\n",
              "  "
            ],
            "text/plain": [
              "   ID         Name  Age  OVA  ...    CB   RCB     RB    GK\n",
              "0   2  G. Pasquale   33   69  ...  69+0  69+0  70+-1  17+0\n",
              "1  16  Luis García   37   71  ...  60+1  60+1   60+1  17+1\n",
              "2  27      J. Cole   33   71  ...  46+0  46+0   47+0  15+0\n",
              "3  36     D. Yorke   36   68  ...  51+0  51+0   57+0  22+0\n",
              "4  41      Iniesta   36   81  ...  64+3  64+3   67+3  17+3\n",
              "\n",
              "[5 rows x 103 columns]"
            ]
          },
          "metadata": {},
          "execution_count": 125
        }
      ]
    },
    {
      "cell_type": "code",
      "source": [
        "#Number of Players per country\n",
        "plt.figure(figsize=(15,32))\n",
        " \n",
        "sns.countplot(y = df.Nationality,palette=\"Set2\") #Plot all the nations on Y Axis\n"
      ],
      "metadata": {
        "colab": {
          "base_uri": "https://localhost:8080/",
          "height": 1000
        },
        "id": "rCVG-Wp12Maf",
        "outputId": "6943bfda-c0a5-4789-b8e5-5d378f63acce"
      },
      "execution_count": 98,
      "outputs": [
        {
          "output_type": "execute_result",
          "data": {
            "text/plain": [
              "<matplotlib.axes._subplots.AxesSubplot at 0x7fd2f72fe090>"
            ]
          },
          "metadata": {},
          "execution_count": 98
        },
        {
          "output_type": "display_data",
          "data": {
            "image/png": "[encoded data removed]",
            "text/plain": [
              "<Figure size 1080x2304 with 1 Axes>"
            ]
          },
          "metadata": {
            "needs_background": "light"
          }
        }
      ]
    },
    {
      "cell_type": "code",
      "source": [
        "#Number of players in each age category\n",
        "plt.figure(figsize=(15,6))\n",
        "sns.countplot(x=\"Age\",data=df)  \n"
      ],
      "metadata": {
        "colab": {
          "base_uri": "https://localhost:8080/",
          "height": 406
        },
        "id": "lx8ayBB22hJx",
        "outputId": "39979826-176c-442c-ba27-d85cbb63b765"
      },
      "execution_count": 99,
      "outputs": [
        {
          "output_type": "execute_result",
          "data": {
            "text/plain": [
              "<matplotlib.axes._subplots.AxesSubplot at 0x7fd2f6f9b9d0>"
            ]
          },
          "metadata": {},
          "execution_count": 99
        },
        {
          "output_type": "display_data",
          "data": {
            "image/png": "[encoded data removed]",
            "text/plain": [
              "<Figure size 1080x432 with 1 Axes>"
            ]
          },
          "metadata": {
            "needs_background": "light"
          }
        }
      ]
    },
    {
      "cell_type": "markdown",
      "source": [
        "We are now going to form XIs on basis of formations "
      ],
      "metadata": {
        "id": "9F_-POUR23e7"
      }
    },
    {
      "cell_type": "markdown",
      "source": [
        "# **4-3-3** **FORMATION**"
      ],
      "metadata": {
        "id": "oLBwDMHn3jDU"
      }
    },
    {
      "cell_type": "markdown",
      "source": [
        "\n",
        "##**GOALKEEPER**\n",
        "\n",
        "###In order to get the best goalkeeper, We’ll be analyzing the data for the below mentioned parameters:\n",
        "\n",
        "####Shot Stopper: A goalkeeper who is strong in stopping shots taken by opponents.\n",
        "####Sweeper: A goalkeeper who is strong in playing with his feet and making passes."
      ],
      "metadata": {
        "id": "-x0aFlSx35mU"
      }
    },
    {
      "cell_type": "code",
      "source": [
        "#weights\n",
        "a = 0.5\n",
        "b = 1\n",
        "c= 2\n",
        "d = 3\n",
        " \n",
        "#GoalKeeping Characterstics\n",
        "df['gk_Shot_Stopper'] = (b*df.Reactions + b*df.Composure + a*df.Sprint_Speed + a*df.Strength + c*df.Jumping + b*df.GK_Positioning + c*df.GK_Diving + d*df.GK_Reflexes + b*df.GK_Handling)/(2*a + 4*b + 2*c + 1*d)\n",
        "df['gk_Sweeper'] = (b*df.Reactions + b*df.Composure + b*df.Sprint_Speed + a*df.Short_Pass + a*df.Long_Pass + b*df.Jumping + b*df.GK_Positioning + b*df.GK_Diving + d*df.GK_Reflexes + b*df.GK_Handling + d*df.GK_Kicking + c*df.Vision)/(2*a + 4*b + 3*c + 2*d)\n"
      ],
      "metadata": {
        "id": "hgIB5sX54Ypu"
      },
      "execution_count": 100,
      "outputs": []
    },
    {
      "cell_type": "code",
      "source": [
        "#Based on above parameters we're going to predict the best GK for the team\n",
        "plt.figure(figsize=(15,6))\n",
        " \n",
        "# Generate sequential data and plot\n",
        "sd = df.sort_values('gk_Shot_Stopper', ascending=False)[:5]\n",
        "x1 = np.array(list(sd['Name']))\n",
        "y1 = np.array(list(sd['gk_Shot_Stopper']))\n",
        "sns.barplot(x1, y1, palette= \"colorblind\")\n",
        "plt.ylabel(\"Shot Stopping Score\")"
      ],
      "metadata": {
        "colab": {
          "base_uri": "https://localhost:8080/",
          "height": 446
        },
        "id": "snqTFJBe_yWi",
        "outputId": "1ae305b2-0a86-4245-ceda-2c1ea0253a1a"
      },
      "execution_count": 101,
      "outputs": [
        {
          "output_type": "stream",
          "name": "stderr",
          "text": [
            "/usr/local/lib/python3.7/dist-packages/seaborn/_decorators.py:43: FutureWarning: Pass the following variables as keyword args: x, y. From version 0.12, the only valid positional argument will be `data`, and passing other arguments without an explicit keyword will result in an error or misinterpretation.\n",
            "  FutureWarning\n"
          ]
        },
        {
          "output_type": "execute_result",
          "data": {
            "text/plain": [
              "Text(0, 0.5, 'Shot Stopping Score')"
            ]
          },
          "metadata": {},
          "execution_count": 101
        },
        {
          "output_type": "display_data",
          "data": {
            "image/png": "[encoded data removed]",
            "text/plain": [
              "<Figure size 1080x432 with 1 Axes>"
            ]
          },
          "metadata": {
            "needs_background": "light"
          }
        }
      ]
    },
    {
      "cell_type": "markdown",
      "source": [
        "Based on the **shot-stopper characteristics**, it can be inferred that ***Jan Oblak*** is the best goalkeeper as you can see he tops the above list. "
      ],
      "metadata": {
        "id": "4tF9DaIxAHjx"
      }
    },
    {
      "cell_type": "code",
      "source": [
        "#Let us now plot the other parameter(Sweeper) as well.\n",
        "plt.figure(figsize=(15,6))\n",
        "sd = df.sort_values('gk_Sweeper', ascending=False)[:5]\n",
        "x2 = np.array(list(sd['Name']))\n",
        "y2 = np.array(list(sd['gk_Sweeper']))\n",
        "sns.barplot(x2, y2, palette= \"colorblind\")\n",
        "plt.ylabel(\"Sweeping Score\")\n"
      ],
      "metadata": {
        "colab": {
          "base_uri": "https://localhost:8080/",
          "height": 446
        },
        "id": "OkwaAOB9_z21",
        "outputId": "2807719d-1252-445e-f178-9bc2c1bb73a1"
      },
      "execution_count": 102,
      "outputs": [
        {
          "output_type": "stream",
          "name": "stderr",
          "text": [
            "/usr/local/lib/python3.7/dist-packages/seaborn/_decorators.py:43: FutureWarning: Pass the following variables as keyword args: x, y. From version 0.12, the only valid positional argument will be `data`, and passing other arguments without an explicit keyword will result in an error or misinterpretation.\n",
            "  FutureWarning\n"
          ]
        },
        {
          "output_type": "execute_result",
          "data": {
            "text/plain": [
              "Text(0, 0.5, 'Sweeping Score')"
            ]
          },
          "metadata": {},
          "execution_count": 102
        },
        {
          "output_type": "display_data",
          "data": {
            "image/png": "[encoded data removed]",
            "text/plain": [
              "<Figure size 1080x432 with 1 Axes>"
            ]
          },
          "metadata": {
            "needs_background": "light"
          }
        }
      ]
    },
    {
      "cell_type": "markdown",
      "source": [
        "Based on the **Sweeper characteristics**, it can be inferred that ***Manuel Neuer*** is the best goalkeeper as you can see he tops the above list. "
      ],
      "metadata": {
        "id": "QovI2XyiAxHJ"
      }
    },
    {
      "cell_type": "markdown",
      "source": [
        "I want a sweeper keeper in my team , so Manuel Neur walks into the Starting XI being the more balanced in both categories"
      ],
      "metadata": {
        "id": "F80NagAoBB1a"
      }
    },
    {
      "cell_type": "markdown",
      "source": [
        "####**Manuel Neur**"
      ],
      "metadata": {
        "id": "HJBsSYpNK9f2"
      }
    },
    {
      "cell_type": "markdown",
      "source": [
        "##**DEFENDERS**\n",
        "In order to find the best defenders, I’ll be using following attributes to fetch the best defenders:\n",
        "***Centre Backs:*** We need two center-backs. One who plays LCB and the other who plays RCB.\n",
        "\n",
        "***Wing Backs:*** We again need two wing backs. One who plays on the Left and the other who plays on the right."
      ],
      "metadata": {
        "id": "N9_lE04NBM2w"
      }
    },
    {
      "cell_type": "code",
      "source": [
        "#Choosing Defenders\n",
        "df['df_centre_backs'] = ( d*df.Reactions + c*df.Interceptions + d*df.Sliding_Tackle + d*df.Standing_Tackle + b*df.Vision+ b*df.Composure + b*df.Crossing +a*df.Short_Pass + b*df.Long_Pass+ c*df.Acceleration + b*df.Sprint_Speed\n",
        "+ d*df.Stamina + d*df.Jumping + d*df.Heading + b*df.Long_Shots + d*df.Marking + c*df.Aggression)/(6*b + 3*c + 7*d)\n",
        "df['df_wb_Wing_Backs'] = (b*df.Ball_Control + a*df.Dribbling + a*df.Marking + d*df.Sliding_Tackle + d*df.Standing_Tackle + a*df.Attacking + c*df.Vision + c*df.Crossing + b*df.Short_Pass + c*df.Long_Pass + d*df.Acceleration +d*df.Sprint_Speed + c*df.Stamina + a*df.Finishing)/(4*a + 2*b + 4*c + 4*d)\n"
      ],
      "metadata": {
        "id": "aBR2XCqIB1k8"
      },
      "execution_count": 140,
      "outputs": []
    },
    {
      "cell_type": "markdown",
      "source": [
        "###**Centre Backs**"
      ],
      "metadata": {
        "id": "MJZNsup7Gxx1"
      }
    },
    {
      "cell_type": "code",
      "source": [
        "#LEFT CENTRAL DEFENDER:\n",
        "plt.figure(figsize=(15,6))\n",
        "sd = df[(df['foot'] == 'Left') & (df['Position']=='CB')].sort_values('df_centre_backs', ascending=False)[:5]\n",
        "x2 = np.array(list(sd['Name']))\n",
        "y2 = np.array(list(sd['df_centre_backs']))\n",
        "sns.barplot(x2, y2, palette=sns.color_palette(\"Blues_d\"))\n",
        "plt.ylabel(\"LCB Score\")"
      ],
      "metadata": {
        "colab": {
          "base_uri": "https://localhost:8080/",
          "height": 446
        },
        "id": "Er6jb1R2EOHP",
        "outputId": "0b311b4e-4f34-4c43-9490-7e24671e96c1"
      },
      "execution_count": 175,
      "outputs": [
        {
          "output_type": "stream",
          "name": "stderr",
          "text": [
            "/usr/local/lib/python3.7/dist-packages/seaborn/_decorators.py:43: FutureWarning: Pass the following variables as keyword args: x, y. From version 0.12, the only valid positional argument will be `data`, and passing other arguments without an explicit keyword will result in an error or misinterpretation.\n",
            "  FutureWarning\n"
          ]
        },
        {
          "output_type": "execute_result",
          "data": {
            "text/plain": [
              "Text(0, 0.5, 'LCB Score')"
            ]
          },
          "metadata": {},
          "execution_count": 175
        },
        {
          "output_type": "display_data",
          "data": {
            "image/png": "[encoded data removed]",
            "text/plain": [
              "<Figure size 1080x432 with 1 Axes>"
            ]
          },
          "metadata": {
            "needs_background": "light"
          }
        }
      ]
    },
    {
      "cell_type": "markdown",
      "source": [
        "Based on the **left centre back characteristics**, it can be inferred that ***Clement Lenglet*** is the Best Left Central Defender."
      ],
      "metadata": {
        "id": "hzntPY7JF37j"
      }
    },
    {
      "cell_type": "code",
      "source": [
        "#Best RCB\n",
        "plt.figure(figsize=(15,6))\n",
        "sd = df[(df['foot'] == 'Right') & (df['Position']=='CB')].sort_values('df_centre_backs', ascending=False)[:5]\n",
        "x2 = np.array(list(sd['Name']))\n",
        "y2 = np.array(list(sd['df_centre_backs']))\n",
        "sns.barplot(x2, y2, palette=sns.color_palette(\"Blues_d\"))\n",
        "plt.ylabel(\"RCB Score\")"
      ],
      "metadata": {
        "colab": {
          "base_uri": "https://localhost:8080/",
          "height": 446
        },
        "id": "GhlN-AndFxpH",
        "outputId": "f5287b18-398e-4984-e388-fd5830c7f6d0"
      },
      "execution_count": 176,
      "outputs": [
        {
          "output_type": "stream",
          "name": "stderr",
          "text": [
            "/usr/local/lib/python3.7/dist-packages/seaborn/_decorators.py:43: FutureWarning: Pass the following variables as keyword args: x, y. From version 0.12, the only valid positional argument will be `data`, and passing other arguments without an explicit keyword will result in an error or misinterpretation.\n",
            "  FutureWarning\n"
          ]
        },
        {
          "output_type": "execute_result",
          "data": {
            "text/plain": [
              "Text(0, 0.5, 'RCB Score')"
            ]
          },
          "metadata": {},
          "execution_count": 176
        },
        {
          "output_type": "display_data",
          "data": {
            "image/png": "[encoded data removed]",
            "text/plain": [
              "<Figure size 1080x432 with 1 Axes>"
            ]
          },
          "metadata": {
            "needs_background": "light"
          }
        }
      ]
    },
    {
      "cell_type": "markdown",
      "source": [
        "Based on the **right centre back characteristics**, it can be inferred that ***Sergio Ramos*** is the Best Right Central Defender for the XI as Sergio Ramos has already been chosen. "
      ],
      "metadata": {
        "id": "Ofce4Y4BGdEv"
      }
    },
    {
      "cell_type": "markdown",
      "source": [
        "####**Clement Lenglet**,**Segio Ramos**"
      ],
      "metadata": {
        "id": "-jJv1vWTKuzc"
      }
    },
    {
      "cell_type": "markdown",
      "source": [
        "###**Wing Backs/Full Backs**"
      ],
      "metadata": {
        "id": "zLCepiXjHFlt"
      }
    },
    {
      "cell_type": "code",
      "source": [
        "#LEFT WING BACK/LEFT FULL BACK:\n",
        "plt.figure(figsize=(15,6))\n",
        " \n",
        "sd = df[((df['Position']=='LWB') | (df['Position']=='LB'))].sort_values('df_wb_Wing_Backs', ascending=False)[:5]\n",
        "x4 = np.array(list(sd['Name']))\n",
        "y4 = np.array(list(sd['df_wb_Wing_Backs']))\n",
        "sns.barplot(x4, y4, palette=sns.color_palette(\"Blues_d\"))\n",
        "plt.ylabel(\"Left Back Score\")"
      ],
      "metadata": {
        "colab": {
          "base_uri": "https://localhost:8080/",
          "height": 446
        },
        "id": "Ji3MQ89rHLRH",
        "outputId": "474230c6-06f9-4a5c-c3ba-344cb2edbbe6"
      },
      "execution_count": 106,
      "outputs": [
        {
          "output_type": "stream",
          "name": "stderr",
          "text": [
            "/usr/local/lib/python3.7/dist-packages/seaborn/_decorators.py:43: FutureWarning: Pass the following variables as keyword args: x, y. From version 0.12, the only valid positional argument will be `data`, and passing other arguments without an explicit keyword will result in an error or misinterpretation.\n",
            "  FutureWarning\n"
          ]
        },
        {
          "output_type": "execute_result",
          "data": {
            "text/plain": [
              "Text(0, 0.5, 'Left Back Score')"
            ]
          },
          "metadata": {},
          "execution_count": 106
        },
        {
          "output_type": "display_data",
          "data": {
            "image/png": "[encoded data removed]",
            "text/plain": [
              "<Figure size 1080x432 with 1 Axes>"
            ]
          },
          "metadata": {
            "needs_background": "light"
          }
        }
      ]
    },
    {
      "cell_type": "markdown",
      "source": [
        "As per the above analysis, it is evident that ***Jordi Alba*** is the best **LWB/LB** for Euro 2020."
      ],
      "metadata": {
        "id": "saMAEQRdIs-b"
      }
    },
    {
      "cell_type": "code",
      "source": [
        "#RIGHT WING BACK/RIGHT FULL BACK:\n",
        "plt.figure(figsize=(15,6))\n",
        " \n",
        "sd = df[((df['Position']=='RWB') | (df['Position']=='RB'))].sort_values('df_wb_Wing_Backs', ascending=False)[:5]\n",
        "x4 = np.array(list(sd['Name']))\n",
        "y4 = np.array(list(sd['df_wb_Wing_Backs']))\n",
        "sns.barplot(x4, y4, palette=sns.color_palette(\"Blues_d\"))\n",
        "plt.ylabel(\"Right Back Score\")"
      ],
      "metadata": {
        "colab": {
          "base_uri": "https://localhost:8080/",
          "height": 447
        },
        "id": "uL2_eZ2bIUVW",
        "outputId": "35ecfc3b-fbde-4260-edd0-4a81db6151e0"
      },
      "execution_count": 107,
      "outputs": [
        {
          "output_type": "stream",
          "name": "stderr",
          "text": [
            "/usr/local/lib/python3.7/dist-packages/seaborn/_decorators.py:43: FutureWarning: Pass the following variables as keyword args: x, y. From version 0.12, the only valid positional argument will be `data`, and passing other arguments without an explicit keyword will result in an error or misinterpretation.\n",
            "  FutureWarning\n"
          ]
        },
        {
          "output_type": "execute_result",
          "data": {
            "text/plain": [
              "Text(0, 0.5, 'Right Back Score')"
            ]
          },
          "metadata": {},
          "execution_count": 107
        },
        {
          "output_type": "display_data",
          "data": {
            "image/png": "[encoded data removed]",
            "text/plain": [
              "<Figure size 1080x432 with 1 Axes>"
            ]
          },
          "metadata": {
            "needs_background": "light"
          }
        }
      ]
    },
    {
      "cell_type": "markdown",
      "source": [
        "As per the above analysis, it is evident that ***Trent Alexander Arnold*** is the best **RWB/RB** for Euro 2020."
      ],
      "metadata": {
        "id": "Au5lNgzvJ4cP"
      }
    },
    {
      "cell_type": "markdown",
      "source": [
        "####**Jordi Alba**,**Trent Alexander Arnold** "
      ],
      "metadata": {
        "id": "VPBOphVwKI9e"
      }
    },
    {
      "cell_type": "markdown",
      "source": [
        "##MIDFIELDER"
      ],
      "metadata": {
        "id": "E42aNIQTLfiL"
      }
    },
    {
      "cell_type": "code",
      "source": [
        "#Removing Stars from Weak Foot Rating\n",
        "df['wf'] = df['wf'].str.replace(r'[^0-9]+', '')\n",
        "df['wf'] = df['wf'].astype(int)\n",
        "df.wf"
      ],
      "metadata": {
        "colab": {
          "base_uri": "https://localhost:8080/"
        },
        "id": "i5UsJ9IOr83G",
        "outputId": "db80818f-0bad-4f44-ca78-bf0168101163"
      },
      "execution_count": 132,
      "outputs": [
        {
          "output_type": "execute_result",
          "data": {
            "text/plain": [
              "0        3\n",
              "1        4\n",
              "2        4\n",
              "3        3\n",
              "4        4\n",
              "        ..\n",
              "17120    2\n",
              "17121    3\n",
              "17122    3\n",
              "17123    4\n",
              "17124    3\n",
              "Name: wf, Length: 17125, dtype: int64"
            ]
          },
          "metadata": {},
          "execution_count": 132
        }
      ]
    },
    {
      "cell_type": "markdown",
      "source": [
        "As per my game formation 4-3-3, I have to choose 3 midfielders. In order to find these, I’ll be analyzing the data for the below mentioned parameters:\n",
        "***Playmaker***: A playmaker is someone who will move the ball to the attacking 3rd from defence or midfield.\n",
        "\n",
        "***Beast***:A beast is a typical box-to-box player with loads of energy and who can boss the midfield.\n",
        "\n",
        "***Controller***:A controller is the person who is orchestrating your midfield engine by either sitting back or going forward based on dynamic needs."
      ],
      "metadata": {
        "id": "exMcdCWRu7mR"
      }
    },
    {
      "cell_type": "code",
      "source": [
        "#Midfielding Indices\n",
        "df['mf_playmaker'] = (d*df.Ball_Control + d*df.Dribbling + a*df.Marking + d*df.Reactions + d*df.Vision + c*df.Attacking + c*df.Crossing + d*df.Short_Pass + c*df.Long_Pass + c*df.Curve + b*df.Long_Shots + c*df.FK_Accuracy)/(1*a + 1*b + 4*c + 4*d)\n",
        "df['mf_beast'] = (d*df.Agility + c*df.Balance + b*df.Jumping + c*df.Strength + d*df.Stamina + a*df.Sprint_Speed + c*df.Acceleration + d*df.Short_Pass + c*df.Aggression + d*df.Reactions + b*df.Marking + b*df.Standing_Tackle + b*df.Sliding_Tackle + b*df.Interceptions)/(1*a + 5*b + 4*c + 4*d)\n",
        "df['mf_controller'] = (b*df.wf + d*df.Ball_Control + a*df.Dribbling + a*df.Marking + a*df.Reactions + c*df.Vision + c*df.Composure + d*df.Short_Pass + d*df.Long_Pass)/(2*c + 3*d + 4*a)\n"
      ],
      "metadata": {
        "id": "uGMXPuvIegh8"
      },
      "execution_count": 133,
      "outputs": []
    },
    {
      "cell_type": "code",
      "source": [
        "#PLAYMAKER:\n",
        "\n",
        "plt.figure(figsize=(15,6))\n",
        " \n",
        "ss = df[(df['BP'] == 'CAM') | (df['Position'] == 'CAM')].sort_values('mf_playmaker', ascending=False)[:5]\n",
        "x3 = np.array(list(ss['Name']))\n",
        "y3 = np.array(list(ss['mf_playmaker']))\n",
        "sns.barplot(x3, y3, palette=sns.diverging_palette(145, 280, s=85, l=25, n=5))\n",
        "plt.ylabel(\"PlayMaker Score\")"
      ],
      "metadata": {
        "colab": {
          "base_uri": "https://localhost:8080/",
          "height": 447
        },
        "id": "xP1duU9vvH9z",
        "outputId": "c7dbc46f-8a51-4852-bdff-ad2400092658"
      },
      "execution_count": 163,
      "outputs": [
        {
          "output_type": "stream",
          "name": "stderr",
          "text": [
            "/usr/local/lib/python3.7/dist-packages/seaborn/_decorators.py:43: FutureWarning: Pass the following variables as keyword args: x, y. From version 0.12, the only valid positional argument will be `data`, and passing other arguments without an explicit keyword will result in an error or misinterpretation.\n",
            "  FutureWarning\n"
          ]
        },
        {
          "output_type": "execute_result",
          "data": {
            "text/plain": [
              "Text(0, 0.5, 'PlayMaker Score')"
            ]
          },
          "metadata": {},
          "execution_count": 163
        },
        {
          "output_type": "display_data",
          "data": {
            "image/png": "[encoded data removed]",
            "text/plain": [
              "<Figure size 1080x432 with 1 Axes>"
            ]
          },
          "metadata": {
            "needs_background": "light"
          }
        }
      ]
    },
    {
      "cell_type": "markdown",
      "source": [
        "As per the above analysis, I’ll pick ***Kevin De Bruyne*** as the best **Playmaker** for Euro 2020."
      ],
      "metadata": {
        "id": "VT4OkkR3v26H"
      }
    },
    {
      "cell_type": "code",
      "source": [
        "#BEAST\n",
        "\n",
        "plt.figure(figsize=(15,6))\n",
        " \n",
        "ss = df[(df['Position'] == 'CM') | (df['Position'] == 'RM') | (df['Position'] == 'CDM') | (df['BP'] == 'CM') | (df['BP'] == 'RM') | (df['BP'] == 'CDM')].sort_values('mf_beast', ascending=False)[:5]\n",
        "x2 = np.array(list(ss['Name']))\n",
        "y2 = np.array(list(ss['mf_beast']))\n",
        "sns.barplot(x2, y2, palette=sns.diverging_palette(145, 280, s=85, l=25, n=5))\n",
        "plt.ylabel(\"Beast Score\")"
      ],
      "metadata": {
        "colab": {
          "base_uri": "https://localhost:8080/",
          "height": 446
        },
        "id": "u_FFZ_HMwBj2",
        "outputId": "5ab23af3-e1ff-4bfa-8767-fa426c74e35c"
      },
      "execution_count": 178,
      "outputs": [
        {
          "output_type": "stream",
          "name": "stderr",
          "text": [
            "/usr/local/lib/python3.7/dist-packages/seaborn/_decorators.py:43: FutureWarning: Pass the following variables as keyword args: x, y. From version 0.12, the only valid positional argument will be `data`, and passing other arguments without an explicit keyword will result in an error or misinterpretation.\n",
            "  FutureWarning\n"
          ]
        },
        {
          "output_type": "execute_result",
          "data": {
            "text/plain": [
              "Text(0, 0.5, 'Beast Score')"
            ]
          },
          "metadata": {},
          "execution_count": 178
        },
        {
          "output_type": "display_data",
          "data": {
            "image/png": "[encoded data removed]",
            "text/plain": [
              "<Figure size 1080x432 with 1 Axes>"
            ]
          },
          "metadata": {
            "needs_background": "light"
          }
        }
      ]
    },
    {
      "cell_type": "markdown",
      "source": [
        "As per the above analysis, I’ll pick ***Allan*** as the best **Beast** Midfielder."
      ],
      "metadata": {
        "id": "clmwy-jxwqvH"
      }
    },
    {
      "cell_type": "code",
      "source": [
        "#CONTROLLER:\n",
        "\n",
        "plt.figure(figsize=(15,6))\n",
        " \n",
        "# Generate some sequential data\n",
        "ss = df[(df['Position'] == 'CDM') | (df['Position'] == 'CM')| (df['Position'] == 'LM') | (df['BP'] == 'CM') | (df['BP'] == 'LM') | (df['BP'] == 'CDM')].sort_values('mf_controller', ascending=False)[:5]\n",
        "x1 = np.array(list(ss['Name']))\n",
        "y1 = np.array(list(ss['mf_controller']))\n",
        "sns.barplot(x1, y1, palette=sns.diverging_palette(145, 280, s=85, l=25, n=5))\n",
        "plt.ylabel(\"Controller Score\")"
      ],
      "metadata": {
        "colab": {
          "base_uri": "https://localhost:8080/",
          "height": 447
        },
        "id": "rNL4kv8ew4IP",
        "outputId": "14def9d0-d626-4511-a5ce-5be5f4953bb1"
      },
      "execution_count": 179,
      "outputs": [
        {
          "output_type": "stream",
          "name": "stderr",
          "text": [
            "/usr/local/lib/python3.7/dist-packages/seaborn/_decorators.py:43: FutureWarning: Pass the following variables as keyword args: x, y. From version 0.12, the only valid positional argument will be `data`, and passing other arguments without an explicit keyword will result in an error or misinterpretation.\n",
            "  FutureWarning\n"
          ]
        },
        {
          "output_type": "execute_result",
          "data": {
            "text/plain": [
              "Text(0, 0.5, 'Controller Score')"
            ]
          },
          "metadata": {},
          "execution_count": 179
        },
        {
          "output_type": "display_data",
          "data": {
            "image/png": "[encoded data removed]",
            "text/plain": [
              "<Figure size 1080x432 with 1 Axes>"
            ]
          },
          "metadata": {
            "needs_background": "light"
          }
        }
      ]
    },
    {
      "cell_type": "markdown",
      "source": [
        "As per the above analysis, I’ll pick ***Toni Kroos*** as the best **controller**"
      ],
      "metadata": {
        "id": "MBaeXkE5xbzC"
      }
    },
    {
      "cell_type": "markdown",
      "source": [
        "####**Toni Kroos**, **Kevin De Bruyne** ,**N Golo Kante**"
      ],
      "metadata": {
        "id": "M7YJsAqDyfSE"
      }
    },
    {
      "cell_type": "markdown",
      "source": [
        "##**FORWARDS**"
      ],
      "metadata": {
        "id": "n1CYWl5B3Em-"
      }
    },
    {
      "cell_type": "markdown",
      "source": [
        "In order to find the best attacker, I’ll be analyzing the below mentioned parameters:\n",
        "\n",
        "**Attacking Left Wing**: He is a player, attacking from the left flank.\n",
        "\n",
        "**Attacking Right Wing** *: He is a player, attacking from the right flank.\n",
        "\n",
        "**Striker**: He is a player attacking from the center."
      ],
      "metadata": {
        "id": "sxXpvnm23X4-"
      }
    },
    {
      "cell_type": "code",
      "source": [
        "#FORWARDS\n",
        "df['att_left_wing'] = (c*df.wf + c*df.Ball_Control + c*df.Dribbling + c*df.Sprint_Speed + d*df.Acceleration + b*df.Vision + c*df.Crossing + b*df.Short_Pass + b*df.Long_Pass + b*df.Aggression + b*df.Agility + a*df.Curve + c*df.Long_Shots + b*df.FK_Accuracy + d*df.Finishing)/(a + 6*b + 6*c + 2*d)\n",
        "df['att_right_wing'] = (c*df.wf + c*df.Ball_Control + c*df.Dribbling + c*df.Sprint_Speed + d*df.Acceleration + b*df.Vision + c*df.Crossing + b*df.Short_Pass + b*df.Long_Pass + b*df.Aggression + b*df.Agility + a*df.Curve + c*df.Long_Shots + b*df.FK_Accuracy + d*df.Finishing)/(a + 6*b + 6*c + 2*d)\n",
        "df['att_striker'] = (b*df.wf + b*df.Ball_Control + a*df.Vision + b*df.Aggression + b*df.Agility + a*df.Curve + a*df.Long_Shots + d*df.Balance + d*df.Finishing + d*df.Heading + c*df.Jumping + c*df.Dribbling)/(3*a + 4*b + 2*c + 3*d)\n"
      ],
      "metadata": {
        "id": "tAIJoDN14NxS"
      },
      "execution_count": 169,
      "outputs": []
    },
    {
      "cell_type": "code",
      "source": [
        "##BEST LEFT WINGER\n",
        "\n",
        "plt.figure(figsize=(15,6))\n",
        " \n",
        "ss = df[(df['Position'] == 'LW') | (df['Position'] == 'LM') | (df['BP'] == 'LM') | (df['BP'] == 'LW') ].sort_values('att_left_wing', ascending=False)[:5]\n",
        "x1 = np.array(list(ss['Name']))\n",
        "y1 = np.array(list(ss['att_left_wing']))\n",
        "sns.barplot(x1, y1, palette=sns.diverging_palette(255, 133, l=60, n=5, center=\"dark\"))\n",
        "plt.ylabel(\"Left Wing\")"
      ],
      "metadata": {
        "colab": {
          "base_uri": "https://localhost:8080/",
          "height": 446
        },
        "id": "lGN0ZWdB3vJ6",
        "outputId": "7185c0d5-400d-4ed5-8cc6-f364880c1446"
      },
      "execution_count": 173,
      "outputs": [
        {
          "output_type": "stream",
          "name": "stderr",
          "text": [
            "/usr/local/lib/python3.7/dist-packages/seaborn/_decorators.py:43: FutureWarning: Pass the following variables as keyword args: x, y. From version 0.12, the only valid positional argument will be `data`, and passing other arguments without an explicit keyword will result in an error or misinterpretation.\n",
            "  FutureWarning\n"
          ]
        },
        {
          "output_type": "execute_result",
          "data": {
            "text/plain": [
              "Text(0, 0.5, 'Left Wing')"
            ]
          },
          "metadata": {},
          "execution_count": 173
        },
        {
          "output_type": "display_data",
          "data": {
            "image/png": "[encoded data removed]",
            "text/plain": [
              "<Figure size 1080x432 with 1 Axes>"
            ]
          },
          "metadata": {
            "needs_background": "light"
          }
        }
      ]
    },
    {
      "cell_type": "markdown",
      "source": [
        "Since Neymar Jr doesn't play for European Country , ***Eden Hazard*** is the **Left Winger** in this team"
      ],
      "metadata": {
        "id": "WW-m0AXe40h9"
      }
    },
    {
      "cell_type": "code",
      "source": [
        "#BEST RIGHT WINGER\n",
        "plt.figure(figsize=(15,6))\n",
        " \n",
        "ss = df[(df['BP'] == 'RW') | (df['BP'] == 'RM')].sort_values('att_right_wing', ascending=False)[:5]\n",
        "x2 = np.array(list(ss['Name']))\n",
        "y2 = np.array(list(ss['att_right_wing']))\n",
        "sns.barplot(x2, y2, palette=sns.diverging_palette(255, 133, l=60, n=5, center=\"dark\"))\n",
        "plt.ylabel(\"Right Wing\")"
      ],
      "metadata": {
        "colab": {
          "base_uri": "https://localhost:8080/",
          "height": 446
        },
        "id": "3_lZdjiK5K8D",
        "outputId": "8b253c29-83f2-450e-f244-7dd964c5081f"
      },
      "execution_count": 172,
      "outputs": [
        {
          "output_type": "stream",
          "name": "stderr",
          "text": [
            "/usr/local/lib/python3.7/dist-packages/seaborn/_decorators.py:43: FutureWarning: Pass the following variables as keyword args: x, y. From version 0.12, the only valid positional argument will be `data`, and passing other arguments without an explicit keyword will result in an error or misinterpretation.\n",
            "  FutureWarning\n"
          ]
        },
        {
          "output_type": "execute_result",
          "data": {
            "text/plain": [
              "Text(0, 0.5, 'Right Wing')"
            ]
          },
          "metadata": {},
          "execution_count": 172
        },
        {
          "output_type": "display_data",
          "data": {
            "image/png": "[encoded data removed]",
            "text/plain": [
              "<Figure size 1080x432 with 1 Axes>"
            ]
          },
          "metadata": {
            "needs_background": "light"
          }
        }
      ]
    },
    {
      "cell_type": "markdown",
      "source": [
        "Since Lionel Messi doesn't play for European Country , ***Marcus Rashford*** is the **Right Winger** in this team"
      ],
      "metadata": {
        "id": "VdEmEyCw6vyD"
      }
    },
    {
      "cell_type": "code",
      "source": [
        "#STRIKER\n",
        "\n",
        "plt.figure(figsize=(15,6))\n",
        "ss = df[(df['BP'] == 'ST') | (df['BP'] == 'CF') | (df['Position'] == 'ST') | (df['Position'] == 'CF')].sort_values('att_striker', ascending=False)[:5]\n",
        "x3 = np.array(list(ss['Name']))\n",
        "y3 = np.array(list(ss['att_striker']))\n",
        "sns.barplot(x3, y3, palette=sns.diverging_palette(255, 133, l=60, n=5, center=\"dark\"))\n",
        "plt.ylabel(\"Striker\")"
      ],
      "metadata": {
        "colab": {
          "base_uri": "https://localhost:8080/",
          "height": 446
        },
        "id": "wYa729dF7Egv",
        "outputId": "c2f473ad-093c-4cf1-d1af-c979d3180a46"
      },
      "execution_count": 174,
      "outputs": [
        {
          "output_type": "stream",
          "name": "stderr",
          "text": [
            "/usr/local/lib/python3.7/dist-packages/seaborn/_decorators.py:43: FutureWarning: Pass the following variables as keyword args: x, y. From version 0.12, the only valid positional argument will be `data`, and passing other arguments without an explicit keyword will result in an error or misinterpretation.\n",
            "  FutureWarning\n"
          ]
        },
        {
          "output_type": "execute_result",
          "data": {
            "text/plain": [
              "Text(0, 0.5, 'Striker')"
            ]
          },
          "metadata": {},
          "execution_count": 174
        },
        {
          "output_type": "display_data",
          "data": {
            "image/png": "[encoded data removed]",
            "text/plain": [
              "<Figure size 1080x432 with 1 Axes>"
            ]
          },
          "metadata": {
            "needs_background": "light"
          }
        }
      ]
    },
    {
      "cell_type": "markdown",
      "source": [
        "It’s quite evident from the above plot that ***Cristiano Ronaldo*** is the best **Striker** for  Euro 2020"
      ],
      "metadata": {
        "id": "MgFaqdOL7nk0"
      }
    },
    {
      "cell_type": "markdown",
      "source": [
        "####**Eden Hazard** , **Cristiano Ronaldo** , **Marcus Rashford**"
      ],
      "metadata": {
        "id": "qw6WEGlx8dKD"
      }
    },
    {
      "cell_type": "markdown",
      "source": [
        "To conclude our analysis, the below team represents the Europe’s Best Playing XI for the Euro 2020 in the 4-3-3 lineup.\n",
        "\n",
        "                                Manuel Neur\n",
        "       Trent Alexander Arnold Sergio Ramos Clement Lenglet Jordi Alba    \n",
        "       \n",
        "       N Golo Kante                       Toni Kroos \n",
        "                         Kevin De Bruyne\n",
        "\n",
        "       Marcus Rashford                       Eden Hazard\n",
        "                         Cristiano Ronaldo \n",
        "            \n",
        "\n",
        " \n",
        "\n",
        "                      \n",
        "                  "
      ],
      "metadata": {
        "id": "weTR8pnt96vV"
      }
    }
  ]
}
